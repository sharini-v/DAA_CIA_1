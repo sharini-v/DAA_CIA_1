{
 "cells": [
  {
   "cell_type": "code",
   "execution_count": 8,
   "id": "a761c343",
   "metadata": {},
   "outputs": [],
   "source": [
    "class ScoreParams:\n",
    "    def __init__(self,gap,match,mismatch):\n",
    "        self.gap = gap\n",
    "        self.match = match\n",
    "        self.mismatch = mismatch\n",
    "\n",
    "    def misMatchChar(self,x,y):\n",
    "        if x != y:\n",
    "            return self.mismatch\n",
    "        else:\n",
    "            return self.match"
   ]
  },
  {
   "cell_type": "code",
   "execution_count": 9,
   "id": "8b83cbc6",
   "metadata": {},
   "outputs": [],
   "source": [
    "def getMatrix(X,Y,gap):\n",
    "    matrix = []\n",
    "    for i in range(len(X)+1):\n",
    "        subMatrix = []\n",
    "        for j in range(len(Y)+1):\n",
    "            subMatrix.append(0)\n",
    "        matrix.append(subMatrix)\n",
    "\n",
    "    for j in range(1,len(Y)+1):\n",
    "        matrix[0][j] = j*gap\n",
    "    for i in range(1,len(X)+1):\n",
    "        matrix[i][0] = i*gap\n",
    "    return matrix"
   ]
  },
  {
   "cell_type": "code",
   "execution_count": 10,
   "id": "24eb54e2",
   "metadata": {},
   "outputs": [],
   "source": [
    "def getTraceBackMatrix(X,Y):\n",
    "    matrix = []\n",
    "    for i in range(len(X)+1):\n",
    "        subMatrix = []\n",
    "        for j in range(len(Y)+1):\n",
    "            subMatrix.append('0')\n",
    "        matrix.append(subMatrix)\n",
    "\n",
    "    for j in range(1,len(Y)+1):\n",
    "        matrix[0][j] = 'left'\n",
    "    for i in range(1,len(X)+1):\n",
    "        matrix[i][0] = 'up'\n",
    "    matrix[0][0] = 'done'\n",
    "    return matrix"
   ]
  },
  {
   "cell_type": "code",
   "execution_count": 11,
   "id": "ac7cc623",
   "metadata": {},
   "outputs": [],
   "source": [
    "def globalAlign(x,y,score):\n",
    "    matrix = getMatrix(x,y,score.gap)\n",
    "    traceBack = getTraceBackMatrix(x,y)\n",
    "\n",
    "    for i in range(1,len(x)+1):\n",
    "        for j in range(1,len(y)+1):\n",
    "            left = matrix[i][j-1] + score.gap\n",
    "            up = matrix[i-1][j] + score.gap\n",
    "            diag = matrix[i-1][j-1] + score.misMatchChar(x[i-1],y[j-1])\n",
    "            matrix[i][j] = max(left,up,diag)\n",
    "            if matrix[i][j] == left:\n",
    "                traceBack[i][j] = 'left'\n",
    "            elif matrix[i][j] == up:\n",
    "                traceBack[i][j] = 'up'\n",
    "            else:\n",
    "                traceBack[i][j] = 'diag'\n",
    "    return matrix,traceBack"
   ]
  },
  {
   "cell_type": "code",
   "execution_count": 12,
   "id": "6996c031",
   "metadata": {},
   "outputs": [],
   "source": [
    "def getAlignedSequences(x,y,matrix,traceBack):\n",
    "\n",
    "    xSeq = []\n",
    "    ySeq = []\n",
    "    i = len(x)\n",
    "    j = len(y)\n",
    "    while(i > 0 or j > 0):\n",
    "        if traceBack[i][j] == 'diag':\n",
    "            xSeq.append(x[i-1])\n",
    "            ySeq.append(y[j-1])\n",
    "            i = i-1\n",
    "            j = j-1\n",
    "        elif traceBack[i][j] == 'left':\n",
    "            xSeq.append('-')\n",
    "            ySeq.append(y[j-1])\n",
    "            j = j-1\n",
    "        elif traceBack[i][j] == 'up':\n",
    "            xSeq.append(x[i-1])\n",
    "            ySeq.append('-')\n",
    "            i = i-1\n",
    "        elif traceBack[i][j] == 'done':\n",
    "            break\n",
    "    return xSeq,ySeq"
   ]
  },
  {
   "cell_type": "code",
   "execution_count": 13,
   "id": "894fb38c",
   "metadata": {},
   "outputs": [],
   "source": [
    "def printMatrix(matrix):\n",
    "    for i in range(len(matrix)):\n",
    "        print(matrix[i])\n",
    "    print()"
   ]
  },
  {
   "cell_type": "code",
   "execution_count": 14,
   "id": "f99fceb2",
   "metadata": {},
   "outputs": [
    {
     "name": "stdout",
     "output_type": "stream",
     "text": [
      "Input sequences are: \n",
      "ATGGCTAACGAT\n",
      "GCTAACCTGCAT\n",
      "\n",
      "Printing the score matrix:\n",
      "[0, -2, -4, -6, -8, -10, -12, -14, -16, -18, -20, -22, -24]\n",
      "[-2, -1, -3, -5, -5, -7, -9, -11, -13, -15, -17, -19, -21]\n",
      "[-4, -3, -2, -2, -4, -6, -8, -10, -10, -12, -14, -16, -18]\n",
      "[-6, -3, -4, -3, -3, -5, -7, -9, -11, -9, -11, -13, -15]\n",
      "[-8, -5, -4, -5, -4, -4, -6, -8, -10, -10, -10, -12, -14]\n",
      "[-10, -7, -4, -5, -6, -5, -3, -5, -7, -9, -9, -11, -13]\n",
      "[-12, -9, -6, -3, -5, -7, -5, -4, -4, -6, -8, -10, -10]\n",
      "[-14, -11, -8, -5, -2, -4, -6, -6, -5, -5, -7, -7, -9]\n",
      "[-16, -13, -10, -7, -4, -1, -3, -5, -7, -6, -6, -6, -8]\n",
      "[-18, -15, -12, -9, -6, -3, 0, -2, -4, -6, -5, -7, -7]\n",
      "[-20, -17, -14, -11, -8, -5, -2, -1, -3, -3, -5, -6, -8]\n",
      "[-22, -19, -16, -13, -10, -7, -4, -3, -2, -4, -4, -4, -6]\n",
      "[-24, -21, -18, -15, -12, -9, -6, -5, -2, -3, -5, -5, -3]\n",
      "\n",
      "Printing the trace back matrix:\n",
      "['done', 'left', 'left', 'left', 'left', 'left', 'left', 'left', 'left', 'left', 'left', 'left', 'left']\n",
      "['up', 'diag', 'left', 'left', 'diag', 'left', 'left', 'left', 'left', 'left', 'left', 'left', 'left']\n",
      "['up', 'up', 'diag', 'diag', 'left', 'left', 'left', 'left', 'diag', 'left', 'left', 'left', 'left']\n",
      "['up', 'diag', 'up', 'diag', 'diag', 'left', 'left', 'left', 'left', 'diag', 'left', 'left', 'left']\n",
      "['up', 'up', 'diag', 'up', 'diag', 'diag', 'left', 'left', 'left', 'diag', 'diag', 'left', 'left']\n",
      "['up', 'up', 'diag', 'diag', 'up', 'diag', 'diag', 'left', 'left', 'left', 'diag', 'left', 'left']\n",
      "['up', 'up', 'up', 'diag', 'left', 'left', 'up', 'diag', 'diag', 'left', 'left', 'left', 'diag']\n",
      "['up', 'up', 'up', 'up', 'diag', 'left', 'left', 'up', 'diag', 'diag', 'left', 'diag', 'left']\n",
      "['up', 'up', 'up', 'up', 'up', 'diag', 'left', 'left', 'left', 'diag', 'diag', 'diag', 'left']\n",
      "['up', 'up', 'up', 'up', 'up', 'up', 'diag', 'left', 'left', 'left', 'diag', 'left', 'diag']\n",
      "['up', 'up', 'up', 'up', 'up', 'up', 'up', 'diag', 'left', 'diag', 'left', 'diag', 'left']\n",
      "['up', 'up', 'up', 'up', 'up', 'up', 'up', 'up', 'diag', 'left', 'diag', 'diag', 'left']\n",
      "['up', 'up', 'up', 'up', 'up', 'up', 'up', 'up', 'diag', 'diag', 'left', 'diag', 'diag']\n",
      "\n",
      "The globally aligned sequences are:\n",
      "A T G G C T A A C - - G - A T\n",
      "- - G - C T A A C C T G C A T\n"
     ]
    }
   ],
   "source": [
    "x = 'ATGGCTAACGAT'\n",
    "y = 'GCTAACCTGCAT'\n",
    "print('Input sequences are: ')\n",
    "print(x)\n",
    "print(y)\n",
    "print()\n",
    "score = ScoreParams(-2,1,-1)\n",
    "matrix,traceBack = globalAlign(x,y,score)\n",
    "\n",
    "print('Printing the score matrix:')\n",
    "printMatrix(matrix)\n",
    "\n",
    "print('Printing the trace back matrix:')\n",
    "printMatrix(traceBack)\n",
    "\n",
    "xSeq,ySeq = getAlignedSequences(x,y,matrix,traceBack)\n",
    "\n",
    "print('The globally aligned sequences are:')\n",
    "print(*xSeq[::-1])\n",
    "print(*ySeq[::-1])"
   ]
  },
  {
   "cell_type": "code",
   "execution_count": null,
   "id": "7f218ce0",
   "metadata": {},
   "outputs": [],
   "source": []
  }
 ],
 "metadata": {
  "kernelspec": {
   "display_name": "Python 3 (ipykernel)",
   "language": "python",
   "name": "python3"
  },
  "language_info": {
   "codemirror_mode": {
    "name": "ipython",
    "version": 3
   },
   "file_extension": ".py",
   "mimetype": "text/x-python",
   "name": "python",
   "nbconvert_exporter": "python",
   "pygments_lexer": "ipython3",
   "version": "3.9.7"
  }
 },
 "nbformat": 4,
 "nbformat_minor": 5
}
